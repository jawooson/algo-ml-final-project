{
  "nbformat": 4,
  "nbformat_minor": 0,
  "metadata": {
    "colab": {
      "name": "logistic_regression_algo_ml.ipynb",
      "provenance": []
    },
    "kernelspec": {
      "name": "python3",
      "display_name": "Python 3"
    }
  },
  "cells": [
    {
      "cell_type": "markdown",
      "metadata": {
        "id": "wqHu06ocs0SG"
      },
      "source": [
        "## Adam vs. AMSGrad - Logistic Regression\n"
      ]
    },
    {
      "cell_type": "markdown",
      "metadata": {
        "id": "To7tmTrXtEOR"
      },
      "source": [
        "### Logistic Regression with TF/Keras Library\n",
        "In this section, we will implement logistic regression and apply on Fashion MNIST database. The database contains images of articles of clothing and the task is to classify these images as one of a select number of labels. Training set contains $60000$ images and Test set contains $10000$ images. There are a total of $10$ class labels. Each image is a $28 \\times 28$ matrix of pixel values."
      ]
    },
    {
      "cell_type": "code",
      "metadata": {
        "id": "6jY0jCr902qM"
      },
      "source": [
        "!pip install -q seaborn"
      ],
      "execution_count": 51,
      "outputs": []
    },
    {
      "cell_type": "code",
      "metadata": {
        "id": "UtHfp3ynsh1z"
      },
      "source": [
        "import numpy as np\n",
        "import tensorflow as tf\n",
        "import matplotlib.pyplot as plt\n",
        "import seaborn as sns\n",
        "import math\n",
        "import random\n",
        "\n",
        "np.set_printoptions(precision=3, suppress=True)"
      ],
      "execution_count": 59,
      "outputs": []
    },
    {
      "cell_type": "markdown",
      "metadata": {
        "id": "1PQnQtO5tvC4"
      },
      "source": [
        "#### Download the data"
      ]
    },
    {
      "cell_type": "code",
      "metadata": {
        "colab": {
          "base_uri": "https://localhost:8080/"
        },
        "id": "MtV6w6vGtUJd",
        "outputId": "d4d09892-85c1-4038-905a-6549e413ba35"
      },
      "source": [
        "from tensorflow import keras\n",
        "fashion_mnist = keras.datasets.fashion_mnist\n",
        "(trImages, trLabels), (tImages, tLabels) = fashion_mnist.load_data()"
      ],
      "execution_count": 2,
      "outputs": [
        {
          "output_type": "stream",
          "text": [
            "Downloading data from https://storage.googleapis.com/tensorflow/tf-keras-datasets/train-labels-idx1-ubyte.gz\n",
            "32768/29515 [=================================] - 0s 0us/step\n",
            "Downloading data from https://storage.googleapis.com/tensorflow/tf-keras-datasets/train-images-idx3-ubyte.gz\n",
            "26427392/26421880 [==============================] - 1s 0us/step\n",
            "Downloading data from https://storage.googleapis.com/tensorflow/tf-keras-datasets/t10k-labels-idx1-ubyte.gz\n",
            "8192/5148 [===============================================] - 0s 0us/step\n",
            "Downloading data from https://storage.googleapis.com/tensorflow/tf-keras-datasets/t10k-images-idx3-ubyte.gz\n",
            "4423680/4422102 [==============================] - 0s 0us/step\n"
          ],
          "name": "stdout"
        }
      ]
    },
    {
      "cell_type": "code",
      "metadata": {
        "colab": {
          "base_uri": "https://localhost:8080/"
        },
        "id": "QIChxyYLtqdl",
        "outputId": "9840f5b8-1dff-4c54-d0d1-b4ab2d323148"
      },
      "source": [
        "print(np.shape(trImages))\n",
        "print(np.shape(tImages))"
      ],
      "execution_count": 3,
      "outputs": [
        {
          "output_type": "stream",
          "text": [
            "(60000, 28, 28)\n",
            "(10000, 28, 28)\n"
          ],
          "name": "stdout"
        }
      ]
    },
    {
      "cell_type": "code",
      "metadata": {
        "colab": {
          "base_uri": "https://localhost:8080/"
        },
        "id": "EaX9_Wwkp3RD",
        "outputId": "22b3215b-0c53-46e0-fbb2-cf6744273d65"
      },
      "source": [
        "print(np.shape(trLabels))\n",
        "print(np.shape(tLabels))"
      ],
      "execution_count": 30,
      "outputs": [
        {
          "output_type": "stream",
          "text": [
            "(60000,)\n",
            "(10000,)\n"
          ],
          "name": "stdout"
        }
      ]
    },
    {
      "cell_type": "markdown",
      "metadata": {
        "id": "PZ9Sc-AhrLlW"
      },
      "source": [
        "#### Flatten the data"
      ]
    },
    {
      "cell_type": "code",
      "metadata": {
        "id": "UdOK8hiBquay"
      },
      "source": [
        "trImages = trImages.reshape(60000, 28*28)\n",
        "tImages = tImages.reshape(10000, 28*28)"
      ],
      "execution_count": 34,
      "outputs": []
    },
    {
      "cell_type": "code",
      "metadata": {
        "colab": {
          "base_uri": "https://localhost:8080/"
        },
        "id": "dQ6pjJI-riHl",
        "outputId": "9c827faa-d9ed-42d4-9f87-7a318f4bc95c"
      },
      "source": [
        "np.max(trImages[0])"
      ],
      "execution_count": 37,
      "outputs": [
        {
          "output_type": "execute_result",
          "data": {
            "text/plain": [
              "1.0"
            ]
          },
          "metadata": {
            "tags": []
          },
          "execution_count": 37
        }
      ]
    },
    {
      "cell_type": "markdown",
      "metadata": {
        "id": "ZsVHQEHet7xY"
      },
      "source": [
        "#### Single Layer Implenmentation\n",
        "There is an input layer where each image is flattened into a vector of $28 \\times 28 = 784$ elements and fed into a **Softmax** layer. Output of softmax layer are probabilities of the image belonging to one of the possible $10$ class labels. "
      ]
    },
    {
      "cell_type": "code",
      "metadata": {
        "id": "T216AJsIuSZU"
      },
      "source": [
        "# Training Parameters\n",
        "batchSize = 128\n",
        "nEpochs = 150"
      ],
      "execution_count": 4,
      "outputs": []
    },
    {
      "cell_type": "markdown",
      "metadata": {
        "id": "SynkKsnM08cF"
      },
      "source": [
        "Building the network"
      ]
    },
    {
      "cell_type": "code",
      "metadata": {
        "id": "7P9L5DNTxfnU"
      },
      "source": [
        "# Define a sequential model\n",
        "model = tf.keras.Sequential()\n",
        "\n",
        "# Layer 0 falttens the image input\n",
        "# layer0 = tf.keras.layers.Flatten(input_shape=np.shape(trImages[0]),name='Images')\n",
        "# model.add(layer0)\n",
        "\n",
        "# Layer1 is the output layer\n",
        "numUnits_L1 = 10\n",
        "layer1 = tf.keras.layers.Dense(units=numUnits_L1, activation=tf.nn.softmax, use_bias=True, name='Logistic')\n",
        "model.add(layer1)\n",
        "\n",
        "# Compile model with Adam optimizer\n",
        "model.compile(\n",
        "    optimizer=tf.optimizers.Adam(learning_rate=0.005),\n",
        "    loss='sparse_categorical_crossentropy', \n",
        "    metrics=['accuracy']\n",
        "    )"
      ],
      "execution_count": 36,
      "outputs": []
    },
    {
      "cell_type": "markdown",
      "metadata": {
        "id": "tJFWEE7Q1KdL"
      },
      "source": [
        "Training the model"
      ]
    },
    {
      "cell_type": "code",
      "metadata": {
        "id": "oGQvCwg81Ph3"
      },
      "source": [
        "trHistory = model.fit(\n",
        "    x=trImages, \n",
        "    y=trLabels, \n",
        "    batch_size=batchSize, \n",
        "    epochs=nEpochs,\n",
        "    shuffle=False, \n",
        "    validation_split=0.0)"
      ],
      "execution_count": null,
      "outputs": []
    },
    {
      "cell_type": "code",
      "metadata": {
        "colab": {
          "base_uri": "https://localhost:8080/",
          "height": 279
        },
        "id": "gr9uIF261sc1",
        "outputId": "2b0f8543-7a76-4516-912a-2ff624e9f79e"
      },
      "source": [
        "def plot_loss(history):\n",
        "  plt.plot(history.history['loss'], label='loss')\n",
        "  plt.xlabel('Epoch')\n",
        "  plt.ylabel('Loss')\n",
        "  plt.legend()\n",
        "  plt.grid(True)\n",
        "\n",
        "plot_loss(trHistory)"
      ],
      "execution_count": 41,
      "outputs": [
        {
          "output_type": "display_data",
          "data": {
            "image/png": "[encoded data removed]",
            "text/plain": [
              "<Figure size 432x288 with 1 Axes>"
            ]
          },
          "metadata": {
            "tags": [],
            "needs_background": "light"
          }
        }
      ]
    },
    {
      "cell_type": "code",
      "metadata": {
        "colab": {
          "base_uri": "https://localhost:8080/",
          "height": 279
        },
        "id": "fjww0LJb8zxv",
        "outputId": "31daf2c2-338a-4d5f-9a68-673adcd7fc97"
      },
      "source": [
        "# Train another model with AMSGrad\n",
        "model_amsgrad = tf.keras.Sequential()\n",
        "layer1_amsgrad = tf.keras.layers.Dense(units=10, activation=tf.nn.softmax, use_bias=True, name='Logistic')\n",
        "model_amsgrad.add(layer1_amsgrad)\n",
        "\n",
        "# Compile model with AMSGrad\n",
        "model_amsgrad.compile(\n",
        "    optimizer=tf.optimizers.Adam(learning_rate=0.005, amsgrad=True),\n",
        "    loss='sparse_categorical_crossentropy', \n",
        "    metrics=['accuracy']\n",
        "    )\n",
        "\n",
        "trHistory_amsgrad = model_amsgrad.fit(\n",
        "    x=trImages, \n",
        "    y=trLabels, \n",
        "    batch_size=batchSize, \n",
        "    epochs=nEpochs,\n",
        "    shuffle=False, \n",
        "    verbose=0,\n",
        "    validation_split=0.0)\n",
        "\n",
        "plot_loss(trHistory_amsgrad)"
      ],
      "execution_count": 58,
      "outputs": [
        {
          "output_type": "display_data",
          "data": {
            "image/png": "[encoded data removed]",
            "text/plain": [
              "<Figure size 432x288 with 1 Axes>"
            ]
          },
          "metadata": {
            "tags": [],
            "needs_background": "light"
          }
        }
      ]
    },
    {
      "cell_type": "markdown",
      "metadata": {
        "id": "-vgDTfeHs2Ob"
      },
      "source": [
        "#### Find preconditioned data matrix"
      ]
    },
    {
      "cell_type": "code",
      "metadata": {
        "colab": {
          "base_uri": "https://localhost:8080/"
        },
        "id": "B3YYcQ6Ucncz",
        "outputId": "1bddba1e-4b49-4e08-9e52-6265a436e9fb"
      },
      "source": [
        "print(\"Condition Number A: \", np.linalg.cond(trImages.T @ trImages))\n",
        "\n",
        "P = np.sqrt(np.linalg.inv(np.diag(np.diag(trImages.T @ trImages))))\n",
        "conditioned_A = P@trImages.T@trImages@P\n",
        "\n",
        "print(\"Condition Number Jacobi Preconditioner: \", np.linalg.cond(conditioned_A))"
      ],
      "execution_count": 42,
      "outputs": [
        {
          "output_type": "stream",
          "text": [
            "Condition Number A:  1096879839.537045\n",
            "Condition Number Jacobi Preconditioner:  146238.75368581453\n"
          ],
          "name": "stdout"
        }
      ]
    },
    {
      "cell_type": "code",
      "metadata": {
        "id": "g-IlrQSNASS-"
      },
      "source": [
        "P_Jacobi = P"
      ],
      "execution_count": 72,
      "outputs": []
    },
    {
      "cell_type": "code",
      "metadata": {
        "colab": {
          "base_uri": "https://localhost:8080/"
        },
        "id": "DKRg9Z3etfck",
        "outputId": "be80bd60-82b5-4dc3-8c91-32bdedeae03b"
      },
      "source": [
        "conditioned_A.shape"
      ],
      "execution_count": 43,
      "outputs": [
        {
          "output_type": "execute_result",
          "data": {
            "text/plain": [
              "(784, 784)"
            ]
          },
          "metadata": {
            "tags": []
          },
          "execution_count": 43
        }
      ]
    },
    {
      "cell_type": "markdown",
      "metadata": {
        "id": "eQKJLQv5tyrf"
      },
      "source": [
        "### Adam vs. AMSGrad w/ Interative Function"
      ]
    },
    {
      "cell_type": "code",
      "metadata": {
        "id": "CikkaH1Qt_eX"
      },
      "source": [
        "def plot_loss_2(history_adam, history_amsgrad):\n",
        "  try:\n",
        "    plt.plot(history_adam.history['loss'], label='adam train loss')\n",
        "    plt.plot(history_amsgrad.history['loss'], label='amsgrad train loss')\n",
        "  except:\n",
        "    print(\"Break\")\n",
        "    pass\n",
        "  plt.xlabel('Epoch')\n",
        "  plt.ylabel('Loss')\n",
        "  plt.legend()\n",
        "  plt.grid(True)\n",
        "  plt.show()"
      ],
      "execution_count": 44,
      "outputs": []
    },
    {
      "cell_type": "code",
      "metadata": {
        "id": "oU3DfZW-uIsD"
      },
      "source": [
        "# function to generate a random diagonal matrix\n",
        "def random_diag(dim):\n",
        "\n",
        "  diagonal_entries = np.random.randint(low = 0, high = 255, size = dim)\n",
        "  P = np.diag(diagonal_entries/255.0)\n",
        "\n",
        "  return P\n",
        "\n",
        "def random_gaussian_diag_func(dim):\n",
        "  \"\"\"\n",
        "  Outputs diaginal matrix P with entries \n",
        "  Gaussian (mu=0, sigma=.1). If value is nagative, \n",
        "  replaced with zero. \n",
        "  \"\"\"\n",
        "\n",
        "  mu, sigma = 0, 0.1 # mean and standard deviation\n",
        "  s = np.random.normal(mu, sigma, dim)\n",
        "\n",
        "  vec = [0 if x < 0 else x for x in s]\n",
        "  P = np.diag(vec)\n",
        "\n",
        "  return P"
      ],
      "execution_count": 65,
      "outputs": []
    },
    {
      "cell_type": "code",
      "metadata": {
        "id": "jB61v0ftwAKP"
      },
      "source": [
        "def random_diag_mat(num_iter, lr, nEpochs, batchSize, patience, monitor, mat_type):\n",
        "  \n",
        "  # Number of epochs with no improvement after which training will be stopped\n",
        "  callback = tf.keras.callbacks.EarlyStopping(monitor=monitor, patience=patience)\n",
        "\n",
        "  # Instantiate running lists\n",
        "  total_history_adam = []\n",
        "  total_history_amsgrad = []\n",
        "  total_epochs_for_convergence_adam = []\n",
        "  total_epochs_for_convergence_amsgrad = []\n",
        "\n",
        "  for i in range(num_iter):\n",
        "    if mat_type == 'random':\n",
        "      P = random_diag(dim=784)\n",
        "      D = trImages @ P\n",
        "    elif mat_type == 'jacobi':\n",
        "      D = trImages @ P_Jacobi\n",
        "\n",
        "    # Convert Data to Tensor\n",
        "    data_input = tf.convert_to_tensor(D, dtype = tf.float32)\n",
        "\n",
        "  \n",
        "    print(\"------------ Iter: \", i+1, \" ------------\")\n",
        "    print(\"\\nCondition Number: \", round(np.linalg.cond(D),2))\n",
        "\n",
        "    # Defining Models for Adama and AMSGrad and compiling\n",
        "    logistic_model_adam = tf.keras.Sequential()\n",
        "    layer_adam = tf.keras.layers.Dense(units=10, activation=tf.nn.softmax, use_bias=True, name='Logistic')\n",
        "    logistic_model_adam.add(layer_adam)\n",
        "    logistic_model_adam.compile(\n",
        "        optimizer=tf.optimizers.Adam(learning_rate=lr), \n",
        "        loss='sparse_categorical_crossentropy', \n",
        "        metrics=['accuracy']\n",
        "        )\n",
        "    \n",
        "    logistic_model_amsgrad = tf.keras.Sequential()\n",
        "    layer_amsgrad = tf.keras.layers.Dense(units=10, activation=tf.nn.softmax, use_bias=True, name='Logistic')\n",
        "    logistic_model_amsgrad.add(layer_amsgrad)\n",
        "    logistic_model_amsgrad.compile(\n",
        "        optimizer=tf.optimizers.Adam(learning_rate=lr, amsgrad=True), \n",
        "        loss='sparse_categorical_crossentropy',\n",
        "        metrics=['accuracy']\n",
        "        )\n",
        "    \n",
        "    # Run Models\n",
        "    history_adam = logistic_model_adam.fit(\n",
        "      x=data_input, \n",
        "      y=trLabels, \n",
        "      batch_size=batchSize, \n",
        "      epochs=nEpochs,\n",
        "      shuffle=False, \n",
        "      verbose=0,\n",
        "      validation_split=0.0,\n",
        "      callbacks=[callback])\n",
        "\n",
        "    history_amsgrad = logistic_model_amsgrad.fit(\n",
        "      x=data_input, \n",
        "      y=trLabels, \n",
        "      batch_size=batchSize, \n",
        "      epochs=nEpochs,\n",
        "      shuffle=False, \n",
        "      verbose=0,\n",
        "      validation_split=0.0,\n",
        "      callbacks=[callback])\n",
        "\n",
        "    epochs_adam = len(history_adam.history['loss'])\n",
        "    epochs_amsgrad = len(history_amsgrad.history['loss'])\n",
        "\n",
        "    # Printing number of epochs for convergence as defined by callback \n",
        "    print(\"Adam Epochs to Convergence: \",  epochs_adam)\n",
        "    print(\"AMSGrad Epochs to Convergence\", epochs_amsgrad)\n",
        "    #c\n",
        "\n",
        "    # Plot\n",
        "    plot_loss_2(history_adam, history_amsgrad)\n",
        "\n",
        "    total_epochs_for_convergence_adam.append(epochs_adam)\n",
        "    total_epochs_for_convergence_amsgrad.append(epochs_amsgrad)\n",
        "\n",
        "    total_history_adam.append(history_adam)\n",
        "    total_history_amsgrad.append(history_amsgrad)\n",
        "\n",
        "  return total_history_adam, total_history_amsgrad, total_epochs_for_convergence_adam, total_epochs_for_convergence_amsgrad"
      ],
      "execution_count": 76,
      "outputs": []
    },
    {
      "cell_type": "markdown",
      "metadata": {
        "id": "baynrh2YzmwI"
      },
      "source": [
        "#### Run w/ Different Random Matrices"
      ]
    },
    {
      "cell_type": "code",
      "metadata": {
        "colab": {
          "base_uri": "https://localhost:8080/",
          "height": 1000
        },
        "id": "TpcTwG2yzNv0",
        "outputId": "ee6b3ac0-c20d-4387-d80d-8bfa1e5062cc"
      },
      "source": [
        "hist_adam, hist_amsgrad, epoch_adam, epoch_amsgrad = random_diag_mat(num_iter=3, lr=0.005, nEpochs=150, batchSize=128, patience=3, monitor='loss', mat_type='random')"
      ],
      "execution_count": 74,
      "outputs": [
        {
          "output_type": "stream",
          "text": [
            "------------ Iter:  1  ------------\n",
            "\n",
            "Condition Number:  7.905763036765777e+17\n",
            "Adam Epochs to Convergence:  150\n",
            "AMSGrad Epochs to Convergence 150\n"
          ],
          "name": "stdout"
        },
        {
          "output_type": "display_data",
          "data": {
            "image/png": "[encoded data removed]",
            "text/plain": [
              "<Figure size 432x288 with 1 Axes>"
            ]
          },
          "metadata": {
            "tags": [],
            "needs_background": "light"
          }
        },
        {
          "output_type": "stream",
          "text": [
            "------------ Iter:  2  ------------\n",
            "\n",
            "Condition Number:  8.639430596875428e+18\n",
            "Adam Epochs to Convergence:  150\n",
            "AMSGrad Epochs to Convergence 150\n"
          ],
          "name": "stdout"
        },
        {
          "output_type": "display_data",
          "data": {
            "image/png": "[encoded data removed]",
            "text/plain": [
              "<Figure size 432x288 with 1 Axes>"
            ]
          },
          "metadata": {
            "tags": [],
            "needs_background": "light"
          }
        },
        {
          "output_type": "stream",
          "text": [
            "------------ Iter:  3  ------------\n",
            "\n",
            "Condition Number:  7.896352267109096e+19\n",
            "Adam Epochs to Convergence:  150\n",
            "AMSGrad Epochs to Convergence 150\n"
          ],
          "name": "stdout"
        },
        {
          "output_type": "display_data",
          "data": {
            "image/png": "[encoded data removed]",
            "text/plain": [
              "<Figure size 432x288 with 1 Axes>"
            ]
          },
          "metadata": {
            "tags": [],
            "needs_background": "light"
          }
        }
      ]
    },
    {
      "cell_type": "markdown",
      "metadata": {
        "id": "eY2kwiq33il2"
      },
      "source": [
        "### Run w/ Jacobi Preconditioned Matrix"
      ]
    },
    {
      "cell_type": "code",
      "metadata": {
        "colab": {
          "base_uri": "https://localhost:8080/",
          "height": 1000
        },
        "id": "fvL6a67kDYzg",
        "outputId": "6f654933-b3f9-4e8f-9e0b-5d9d505d84ba"
      },
      "source": [
        "hist_adam, hist_amsgrad, epoch_adam, epoch_amsgrad = random_diag_mat(num_iter=3, lr=0.005, nEpochs=150, batchSize=128, patience=3, monitor='loss', mat_type='jacobi')"
      ],
      "execution_count": 77,
      "outputs": [
        {
          "output_type": "stream",
          "text": [
            "------------ Iter:  1  ------------\n",
            "\n",
            "Condition Number:  382.41\n",
            "Adam Epochs to Convergence:  150\n",
            "AMSGrad Epochs to Convergence 150\n"
          ],
          "name": "stdout"
        },
        {
          "output_type": "display_data",
          "data": {
            "image/png": "[encoded data removed]",
            "text/plain": [
              "<Figure size 432x288 with 1 Axes>"
            ]
          },
          "metadata": {
            "tags": [],
            "needs_background": "light"
          }
        },
        {
          "output_type": "stream",
          "text": [
            "------------ Iter:  2  ------------\n",
            "\n",
            "Condition Number:  382.41\n",
            "Adam Epochs to Convergence:  150\n",
            "AMSGrad Epochs to Convergence 150\n"
          ],
          "name": "stdout"
        },
        {
          "output_type": "display_data",
          "data": {
            "image/png": "[encoded data removed]",
            "text/plain": [
              "<Figure size 432x288 with 1 Axes>"
            ]
          },
          "metadata": {
            "tags": [],
            "needs_background": "light"
          }
        },
        {
          "output_type": "stream",
          "text": [
            "------------ Iter:  3  ------------\n",
            "\n",
            "Condition Number:  382.41\n",
            "Adam Epochs to Convergence:  150\n",
            "AMSGrad Epochs to Convergence 150\n"
          ],
          "name": "stdout"
        },
        {
          "output_type": "display_data",
          "data": {
            "image/png": "[encoded data removed]",
            "text/plain": [
              "<Figure size 432x288 with 1 Axes>"
            ]
          },
          "metadata": {
            "tags": [],
            "needs_background": "light"
          }
        }
      ]
    },
    {
      "cell_type": "markdown",
      "metadata": {
        "id": "LZXCq3c8DyBe"
      },
      "source": [
        "### Changing Hyperparameters $\\beta_1, \\beta_2$"
      ]
    },
    {
      "cell_type": "code",
      "metadata": {
        "id": "pASj9ue3D42l"
      },
      "source": [
        "def random_diag_mat_1(num_iter, lr, nEpochs, batchSize, patience, monitor, mat_type):\n",
        "  \n",
        "  # Number of epochs with no improvement after which training will be stopped\n",
        "  callback = tf.keras.callbacks.EarlyStopping(monitor=monitor, patience=patience)\n",
        "\n",
        "  # Instantiate running lists\n",
        "  total_history_adam = []\n",
        "  total_history_amsgrad = []\n",
        "  total_epochs_for_convergence_adam = []\n",
        "  total_epochs_for_convergence_amsgrad = []\n",
        "\n",
        "  for i in range(num_iter):\n",
        "    if mat_type == 'random':\n",
        "      P = random_diag(dim=784)\n",
        "      D = trImages @ P\n",
        "    elif mat_type == 'jacobi':\n",
        "      D = train_features @ P_Jacobi\n",
        "\n",
        "    # Convert Data to Tensor\n",
        "    data_input = tf.convert_to_tensor(D, dtype = tf.float32)\n",
        "\n",
        "  \n",
        "    print(\"------------ Iter: \", i+1, \" ------------\")\n",
        "    print(\"\\nCondition Number: \", round(np.linalg.cond(D),2))\n",
        "\n",
        "    # Defining Models for Adama and AMSGrad and compiling\n",
        "    logistic_model_adam = tf.keras.Sequential()\n",
        "    layer_adam = tf.keras.layers.Dense(units=10, activation=tf.nn.softmax, use_bias=True, name='Logistic')\n",
        "    logistic_model_adam.add(layer_adam)\n",
        "    logistic_model_adam.compile(\n",
        "        optimizer=tf.optimizers.Adam(learning_rate=lr, beta_1=0, beta_2=0.05), \n",
        "        loss='sparse_categorical_crossentropy', \n",
        "        metrics=['accuracy']\n",
        "        )\n",
        "    \n",
        "    logistic_model_amsgrad = tf.keras.Sequential()\n",
        "    layer_amsgrad = tf.keras.layers.Dense(units=10, activation=tf.nn.softmax, use_bias=True, name='Logistic')\n",
        "    logistic_model_amsgrad.add(layer_amsgrad)\n",
        "    logistic_model_amsgrad.compile(\n",
        "        optimizer=tf.optimizers.Adam(learning_rate=lr, beta_1=0, beta_2=0.05, amsgrad=True), \n",
        "        loss='sparse_categorical_crossentropy',\n",
        "        metrics=['accuracy']\n",
        "        )\n",
        "    \n",
        "    # Run Models\n",
        "    history_adam = logistic_model_adam.fit(\n",
        "      x=data_input, \n",
        "      y=trLabels, \n",
        "      batch_size=batchSize, \n",
        "      epochs=nEpochs,\n",
        "      shuffle=False, \n",
        "      verbose=0,\n",
        "      validation_split=0.0,\n",
        "      callbacks=[callback])\n",
        "\n",
        "    history_amsgrad = logistic_model_amsgrad.fit(\n",
        "      x=data_input, \n",
        "      y=trLabels, \n",
        "      batch_size=batchSize, \n",
        "      epochs=nEpochs,\n",
        "      shuffle=False, \n",
        "      verbose=0,\n",
        "      validation_split=0.0,\n",
        "      callbacks=[callback])\n",
        "\n",
        "    epochs_adam = len(history_adam.history['loss'])\n",
        "    epochs_amsgrad = len(history_amsgrad.history['loss'])\n",
        "\n",
        "    # Printing number of epochs for convergence as defined by callback \n",
        "    print(\"Adam Epochs to Convergence: \",  epochs_adam)\n",
        "    print(\"AMSGrad Epochs to Convergence\", epochs_amsgrad)\n",
        "    #c\n",
        "\n",
        "    # Plot\n",
        "    plot_loss_2(history_adam, history_amsgrad)\n",
        "\n",
        "    total_epochs_for_convergence_adam.append(epochs_adam)\n",
        "    total_epochs_for_convergence_amsgrad.append(epochs_amsgrad)\n",
        "\n",
        "    total_history_adam.append(history_adam)\n",
        "    total_history_amsgrad.append(history_amsgrad)\n",
        "\n",
        "  return total_history_adam, total_history_amsgrad, total_epochs_for_convergence_adam, total_epochs_for_convergence_amsgrad"
      ],
      "execution_count": 78,
      "outputs": []
    },
    {
      "cell_type": "code",
      "metadata": {
        "colab": {
          "base_uri": "https://localhost:8080/",
          "height": 366
        },
        "id": "YL_WDR0EEXYJ",
        "outputId": "c01d1aa9-d8c3-47a8-ebda-8ae1c52ede38"
      },
      "source": [
        "hist_adam, hist_amsgrad, epoch_adam, epoch_amsgrad = random_diag_mat_1(num_iter=1, lr=0.005, nEpochs=150, batchSize=128, patience=3, monitor='loss', mat_type='random')"
      ],
      "execution_count": 81,
      "outputs": [
        {
          "output_type": "stream",
          "text": [
            "------------ Iter:  1  ------------\n",
            "\n",
            "Condition Number:  1.155648378548491e+19\n",
            "Adam Epochs to Convergence:  6\n",
            "AMSGrad Epochs to Convergence 150\n"
          ],
          "name": "stdout"
        },
        {
          "output_type": "display_data",
          "data": {
            "image/png": "[encoded data removed]",
            "text/plain": [
              "<Figure size 432x288 with 1 Axes>"
            ]
          },
          "metadata": {
            "tags": [],
            "needs_background": "light"
          }
        }
      ]
    }
  ]
}