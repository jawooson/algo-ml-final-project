{
 "cells": [
  {
   "cell_type": "markdown",
   "metadata": {},
   "source": [
    "# Adam's Failure to Converge in Simple 1-Dim Convex Settings"
   ]
  },
  {
   "cell_type": "markdown",
   "metadata": {},
   "source": [
    "The proposed Loss function that shows Adam fails to converge for a simple one dimensional convex setting is as follows:\n",
    "\n",
    "$f_t(x)=\n",
    "\\begin{cases}\n",
    "Cx, & \\text{for $t$ mod 3 = 1} \\\\\n",
    "-x, & \\text{otherwise}\n",
    "\\end{cases}$\n",
    "\n",
    "such that $C$ is a constant.\n",
    "\n",
    "This suggests for every three iterations, the loss function is defined as $Cx$ and for all other iterations is defined as $-x$. It is clear that the optimal value for this piece wise function is $-1$. This notebook, which is mostly taken from Vitaly Bushaev's Medium article, [Adam — latest trends in deep learning optimization](https://towardsdatascience.com/adam-latest-trends-in-deep-learning-optimization-6be9a291375c), shows that Adam performs very similarly to AMSGrad when the hyperparamters $(\\beta_1, \\beta_2)$ are set to what is suggested in the paper that proposed Adam. However, when the hyperparameters are set NOT as suggested, Adam fails to converge to the solution."
   ]
  },
  {
   "cell_type": "code",
   "execution_count": 1,
   "metadata": {},
   "outputs": [],
   "source": [
    "import matplotlib.pyplot as plt\n",
    "import numpy as np\n",
    "import random\n",
    "import math"
   ]
  },
  {
   "cell_type": "code",
   "execution_count": 2,
   "metadata": {},
   "outputs": [],
   "source": [
    "# We don't the need the loss function, just need the gradient\n",
    "def grad_determ(x, C=15):\n",
    "    if x % 3 == 1:\n",
    "        return C\n",
    "    else:\n",
    "        return -1"
   ]
  },
  {
   "cell_type": "code",
   "execution_count": 3,
   "metadata": {},
   "outputs": [],
   "source": [
    "# We look at values in [-1, 1]\n",
    "def project(x):\n",
    "    if -1 <= x <= 1:\n",
    "        return x\n",
    "    elif x <= -1:\n",
    "        return -1\n",
    "    else:\n",
    "        return 1"
   ]
  },
  {
   "cell_type": "code",
   "execution_count": 4,
   "metadata": {},
   "outputs": [],
   "source": [
    "# Some Hyper Parameters for the notebook\n",
    "num_iterations = 10000\n",
    "C = 15"
   ]
  },
  {
   "cell_type": "markdown",
   "metadata": {},
   "source": [
    "## Stochastic Gradient Descent "
   ]
  },
  {
   "cell_type": "code",
   "execution_count": 5,
   "metadata": {},
   "outputs": [],
   "source": [
    "def stochastic_gd(num_iterations, starting_x, eta, C, grad_func):\n",
    "\n",
    "    grad_type = str(grad_func).split()[1]\n",
    "    x = starting_x\n",
    "    lr = eta\n",
    "    \n",
    "    x_list = []\n",
    "    for t in range(num_iterations):\n",
    "        if grad_type == 'grad_determ':\n",
    "            g_t = grad_func(t, C)\n",
    "        else:\n",
    "            g_t = grad_func(C)\n",
    "        x = project(x - lr * g_t)\n",
    "        x_list.append(x)\n",
    "        \n",
    "    return round(x, 4), x_list"
   ]
  },
  {
   "cell_type": "code",
   "execution_count": 6,
   "metadata": {},
   "outputs": [],
   "source": [
    "sgd_x_last, sgd_x_list = stochastic_gd(num_iterations=num_iterations, \n",
    "                                       starting_x=0, \n",
    "                                       eta=0.0001, \n",
    "                                       C=15, \n",
    "                                       grad_func=grad_determ)"
   ]
  },
  {
   "cell_type": "code",
   "execution_count": 7,
   "metadata": {},
   "outputs": [
    {
     "data": {
      "text/plain": [
       "-0.9998"
      ]
     },
     "execution_count": 7,
     "metadata": {},
     "output_type": "execute_result"
    }
   ],
   "source": [
    "sgd_x_last"
   ]
  },
  {
   "cell_type": "markdown",
   "metadata": {},
   "source": [
    "## Adam"
   ]
  },
  {
   "cell_type": "markdown",
   "metadata": {},
   "source": [
    "Note, that with default values beta_1 = 0.9 and beta_2 = 0.999 Adam converges to -1 for this exact example with C = 15.\n",
    "Large values of epsilon (>100) also gets Adam to converge to optimal point -1"
   ]
  },
  {
   "cell_type": "code",
   "execution_count": 8,
   "metadata": {},
   "outputs": [],
   "source": [
    "m_t = 0\n",
    "v_t = 0\n",
    "epsilon = 1e-7\n",
    "x = 0\n",
    "beta_1 = 0.0\n",
    "beta_2 = 1 / (1 + C * C )\n",
    "# beta_1 = 0.9\n",
    "# beta_2 = .999\n",
    "step_size = 0.1\n",
    "v_hat = 0"
   ]
  },
  {
   "cell_type": "code",
   "execution_count": 9,
   "metadata": {},
   "outputs": [],
   "source": [
    "def adam_gd(num_iterations, starting_x, eta, C, beta_1, beta_2, epsilon, grad_func):\n",
    "    \n",
    "    grad_type = str(grad_func).split()[1]\n",
    "    \n",
    "    x = starting_x\n",
    "    step_size = eta\n",
    "    \n",
    "    m_t = 0\n",
    "    v_t = 0\n",
    "    x_list = []\n",
    "    for t in range(num_iterations):\n",
    "        if grad_type == 'grad_determ':\n",
    "            g_t = grad_func(t, C)\n",
    "        else:\n",
    "            g_t = grad_func(C)\n",
    "\n",
    "#         g_t = grad_determ(t, C)\n",
    "        m_t = beta_1 * m_t + (1 - beta_1) * g_t\n",
    "        v_t = beta_2 * v_t + (1 - beta_2) * (g_t * g_t)\n",
    "        m_hat = m_t / (1 - np.power(beta_1, t + 1))\n",
    "        v_hat = v_t / (1 - np.power(beta_2, t + 1))\n",
    "\n",
    "        x = project(x - step_size * m_hat / (v_hat + epsilon))\n",
    "        x_list.append(x)\n",
    "        \n",
    "    return x, x_list"
   ]
  },
  {
   "cell_type": "markdown",
   "metadata": {},
   "source": [
    "### Example of Adam NOT Converging"
   ]
  },
  {
   "cell_type": "code",
   "execution_count": 10,
   "metadata": {},
   "outputs": [],
   "source": [
    "adam_x_last, adam_x_list = adam_gd(num_iterations=num_iterations, \n",
    "                                   starting_x=0, \n",
    "                                   eta=.1, \n",
    "                                   C=15, \n",
    "                                   beta_1=beta_1, \n",
    "                                   beta_2=beta_2, \n",
    "                                   epsilon=epsilon, \n",
    "                                   grad_func=grad_determ)"
   ]
  },
  {
   "cell_type": "code",
   "execution_count": 11,
   "metadata": {},
   "outputs": [
    {
     "data": {
      "text/plain": [
       "1"
      ]
     },
     "execution_count": 11,
     "metadata": {},
     "output_type": "execute_result"
    }
   ],
   "source": [
    "adam_x_last"
   ]
  },
  {
   "cell_type": "markdown",
   "metadata": {},
   "source": [
    "## AMSGRAD"
   ]
  },
  {
   "cell_type": "code",
   "execution_count": 12,
   "metadata": {},
   "outputs": [],
   "source": [
    "m_t = 0\n",
    "v_t = 0\n",
    "epsilon = 1e-7\n",
    "x = 0\n",
    "beta_1 = 0.0\n",
    "beta_2 = 1 / (1 + C * C )\n",
    "# beta_1 = 0.9\n",
    "# beta_2 = .999\n",
    "step_size = 0.1\n",
    "v_hat = 0"
   ]
  },
  {
   "cell_type": "code",
   "execution_count": 13,
   "metadata": {},
   "outputs": [],
   "source": [
    "def amsgrad_gd(num_iterations, starting_x, eta, C, beta_1, beta_2, v_hat, epsilon, grad_func):\n",
    "    \n",
    "    grad_type = str(grad_func).split()[1]\n",
    "    \n",
    "    x = starting_x\n",
    "    step_size = eta\n",
    "    \n",
    "    m_t = 0\n",
    "    v_t = 0\n",
    "    x_list = []\n",
    "    for t in range(num_iterations):\n",
    "        \n",
    "        if grad_type == 'grad_determ':\n",
    "            g_t = grad_func(t, C)\n",
    "        else:\n",
    "            g_t = grad_func(C)\n",
    "\n",
    "#         g_t = grad_func(t, C)\n",
    "        m_t = beta_1 * m_t + (1 - beta_1) * g_t\n",
    "        v_t = beta_2 * v_t + (1 - beta_2) * (g_t * g_t)\n",
    "        v_hat = np.maximum(v_hat, v_t)\n",
    "\n",
    "        x = project(x - step_size * m_t / (v_hat + epsilon))\n",
    "        x_list.append(x)\n",
    "    return x, x_list"
   ]
  },
  {
   "cell_type": "markdown",
   "metadata": {},
   "source": [
    "### Example of AMS Grad Converging"
   ]
  },
  {
   "cell_type": "code",
   "execution_count": 14,
   "metadata": {},
   "outputs": [],
   "source": [
    "ams_x_last, ams_x_list = amsgrad_gd(num_iterations=num_iterations, \n",
    "                                      starting_x=0, \n",
    "                                      eta=step_size, \n",
    "                                      C=15, \n",
    "                                      beta_1=beta_1, \n",
    "                                      beta_2=beta_2, \n",
    "                                      v_hat=0, \n",
    "                                      epsilon=1e-7, \n",
    "                                      grad_func=grad_determ)"
   ]
  },
  {
   "cell_type": "code",
   "execution_count": 15,
   "metadata": {},
   "outputs": [
    {
     "data": {
      "text/plain": [
       "-0.9991071782072143"
      ]
     },
     "execution_count": 15,
     "metadata": {},
     "output_type": "execute_result"
    }
   ],
   "source": [
    "ams_x_last"
   ]
  },
  {
   "cell_type": "markdown",
   "metadata": {},
   "source": [
    "## Plotting"
   ]
  },
  {
   "cell_type": "markdown",
   "metadata": {},
   "source": [
    "Selecting Hyperparamters NOT as recommended"
   ]
  },
  {
   "cell_type": "code",
   "execution_count": 16,
   "metadata": {},
   "outputs": [],
   "source": [
    "# NOT Suggested Hyperparameters\n",
    "\n",
    "m_t = 0\n",
    "v_t = 0\n",
    "epsilon = 1e-7\n",
    "x = 0\n",
    "beta_1 = 0.0\n",
    "beta_2 = 1 / (1 + C * C )\n",
    "# beta_1 = 0.9\n",
    "# beta_2 = .999\n",
    "step_size = 0.1\n",
    "v_hat = 0"
   ]
  },
  {
   "cell_type": "code",
   "execution_count": 17,
   "metadata": {},
   "outputs": [],
   "source": [
    "sgd_x_last_determ_bad, sgd_x_list_determ_bad = stochastic_gd(num_iterations=num_iterations, \n",
    "                                                             starting_x=x, \n",
    "                                                             eta=0.0001, \n",
    "                                                             C=C, \n",
    "                                                             grad_func=grad_determ)\n",
    "\n",
    "adam_x_lat_determ_bad, adam_x_list_determ_bad = adam_gd(num_iterations=num_iterations, \n",
    "                                                        starting_x=x, \n",
    "                                                        eta=step_size, \n",
    "                                                        C=C, \n",
    "                                                        beta_1=beta_1, \n",
    "                                                        beta_2=beta_2, \n",
    "                                                        epsilon=epsilon, \n",
    "                                                        grad_func=grad_determ)\n",
    "\n",
    "ams_x_last_determ_bad, ams_x_list_determ_bad = amsgrad_gd(num_iterations=num_iterations, \n",
    "                                                          starting_x=x, \n",
    "                                                          eta=step_size, \n",
    "                                                          C=C, \n",
    "                                                          beta_1=beta_1, \n",
    "                                                          beta_2=beta_2, \n",
    "                                                          v_hat=0, \n",
    "                                                          epsilon=epsilon, \n",
    "                                                          grad_func=grad_determ)"
   ]
  },
  {
   "cell_type": "code",
   "execution_count": 18,
   "metadata": {},
   "outputs": [
    {
     "data": {
      "image/png": "[encoded data removed]",
      "text/plain": [
       "<Figure size 432x288 with 1 Axes>"
      ]
     },
     "metadata": {
      "needs_background": "light"
     },
     "output_type": "display_data"
    }
   ],
   "source": [
    "plt.plot(sgd_x_list_determ_bad, label='SGD')\n",
    "plt.plot(adam_x_list_determ_bad, label='Adam')\n",
    "plt.plot(ams_x_list_determ_bad, label='AMS')\n",
    "plt.xlabel('Iteration')\n",
    "plt.ylabel('X Values')\n",
    "plt.legend()\n",
    "plt.title('Setting Hyperparameters NOT as Recommended')\n",
    "plt.grid(True)"
   ]
  },
  {
   "cell_type": "markdown",
   "metadata": {},
   "source": [
    "Selecting Hyperparamters AS recommended"
   ]
  },
  {
   "cell_type": "code",
   "execution_count": 19,
   "metadata": {},
   "outputs": [],
   "source": [
    "# Suggested Hyperparameters\n",
    "m_t = 0\n",
    "v_t = 0\n",
    "epsilon = 1e-7\n",
    "x = 0\n",
    "# beta_1 = 0.0\n",
    "# beta_2 = 1 / (1 + C * C )\n",
    "beta_1 = 0.9\n",
    "beta_2 = .999\n",
    "step_size = 0.1\n",
    "v_hat = 0\n",
    "C = 15"
   ]
  },
  {
   "cell_type": "code",
   "execution_count": 20,
   "metadata": {},
   "outputs": [],
   "source": [
    "sgd_x_last_determ_good, sgd_x_list_determ_good = stochastic_gd(num_iterations=num_iterations, \n",
    "                                                               starting_x=x, \n",
    "                                                               eta=0.0001, \n",
    "                                                               C=C, \n",
    "                                                               grad_func=grad_determ)\n",
    "\n",
    "adam_x_lat_determ_good, adam_x_list_determ_good = adam_gd(num_iterations=num_iterations, \n",
    "                                                          starting_x=x, \n",
    "                                                          eta=step_size, \n",
    "                                                          C=C, \n",
    "                                                          beta_1=beta_1, \n",
    "                                                          beta_2=beta_2, \n",
    "                                                          epsilon=epsilon, \n",
    "                                                          grad_func=grad_determ)\n",
    "\n",
    "ams_x_last_determ_good, ams_x_list_determ_good = amsgrad_gd(num_iterations=num_iterations, \n",
    "                                                            starting_x=x, \n",
    "                                                            eta=step_size, \n",
    "                                                            C=C, \n",
    "                                                            beta_1=beta_1, \n",
    "                                                            beta_2=beta_2, \n",
    "                                                            v_hat=0, \n",
    "                                                            epsilon=epsilon, \n",
    "                                                            grad_func=grad_determ)"
   ]
  },
  {
   "cell_type": "code",
   "execution_count": 21,
   "metadata": {},
   "outputs": [
    {
     "data": {
      "image/png": "[encoded data removed]",
      "text/plain": [
       "<Figure size 432x288 with 1 Axes>"
      ]
     },
     "metadata": {
      "needs_background": "light"
     },
     "output_type": "display_data"
    }
   ],
   "source": [
    "plt.plot(sgd_x_list_determ_good, label='SGD')\n",
    "plt.plot(adam_x_list_determ_good, label='Adam')\n",
    "plt.plot(ams_x_list_determ_good, label='AMS')\n",
    "plt.xlabel('Iteration')\n",
    "plt.ylabel('X Values')\n",
    "plt.legend()\n",
    "plt.title('Setting Hyperparameters NOT as Recommended')\n",
    "plt.grid(True)"
   ]
  },
  {
   "cell_type": "markdown",
   "metadata": {},
   "source": [
    "# Change the Loss Function to be Random Not Deterministic"
   ]
  },
  {
   "cell_type": "code",
   "execution_count": 22,
   "metadata": {},
   "outputs": [],
   "source": [
    "# We don't actually need the function, we just need its gradient\n",
    "def grad_random(C=15):\n",
    "    \n",
    "    rand_int = random.randint(1, 2)\n",
    "    \n",
    "    if rand_int > 1:\n",
    "        return C\n",
    "    else:\n",
    "        return -1"
   ]
  },
  {
   "cell_type": "code",
   "execution_count": 23,
   "metadata": {},
   "outputs": [],
   "source": [
    "num_iterations = 10000\n",
    "C = 15"
   ]
  },
  {
   "cell_type": "markdown",
   "metadata": {},
   "source": [
    "## Stochastic gradient descent \n",
    "### converges to optimal value of -1"
   ]
  },
  {
   "cell_type": "code",
   "execution_count": 24,
   "metadata": {},
   "outputs": [],
   "source": [
    "sgd_x_last, sgd_x_list = stochastic_gd(num_iterations=num_iterations, \n",
    "                                       starting_x=0, \n",
    "                                       eta=0.0001, \n",
    "                                       C=15, \n",
    "                                       grad_func=grad_random)"
   ]
  },
  {
   "cell_type": "code",
   "execution_count": 25,
   "metadata": {},
   "outputs": [
    {
     "data": {
      "text/plain": [
       "-0.9999"
      ]
     },
     "execution_count": 25,
     "metadata": {},
     "output_type": "execute_result"
    }
   ],
   "source": [
    "sgd_x_last"
   ]
  },
  {
   "cell_type": "markdown",
   "metadata": {},
   "source": [
    "## Adam\n",
    "### With specific values of beta_1 and beta_2\n",
    "### converges to sub-optimal point of 1"
   ]
  },
  {
   "cell_type": "markdown",
   "metadata": {},
   "source": [
    "Note, that with default values beta_1 = 0.9 and beta_2 = 0.999 Adam converges to -1 for this exact example with C = 15.\n",
    "Large values of epsilon (>100) also gets Adam to converge to optimal point -1"
   ]
  },
  {
   "cell_type": "code",
   "execution_count": 26,
   "metadata": {},
   "outputs": [],
   "source": [
    "# beta_1 = 0.9\n",
    "# beta_2 = .999"
   ]
  },
  {
   "cell_type": "code",
   "execution_count": 27,
   "metadata": {},
   "outputs": [],
   "source": [
    "m_t = 0\n",
    "v_t = 0\n",
    "epsilon = 1e-7\n",
    "x = 0\n",
    "beta_1 = 0.0\n",
    "beta_2 = 1 / (1 + C * C )\n",
    "# beta_1 = 0.9\n",
    "# beta_2 = .999\n",
    "step_size = 0.1\n",
    "v_hat = 0"
   ]
  },
  {
   "cell_type": "code",
   "execution_count": 28,
   "metadata": {},
   "outputs": [],
   "source": [
    "adam_x_last, adam_x_list = adam_gd(num_iterations=num_iterations, \n",
    "                                   starting_x=0, \n",
    "                                   eta=.1, \n",
    "                                   C=15, \n",
    "                                   beta_1=beta_1, \n",
    "                                   beta_2=beta_2, \n",
    "                                   epsilon=epsilon, \n",
    "                                   grad_func=grad_random)"
   ]
  },
  {
   "cell_type": "code",
   "execution_count": 29,
   "metadata": {},
   "outputs": [
    {
     "data": {
      "text/plain": [
       "1"
      ]
     },
     "execution_count": 29,
     "metadata": {},
     "output_type": "execute_result"
    }
   ],
   "source": [
    "adam_x_last"
   ]
  },
  {
   "cell_type": "markdown",
   "metadata": {},
   "source": [
    "## AMSGRAD converges to optimal point"
   ]
  },
  {
   "cell_type": "code",
   "execution_count": 30,
   "metadata": {},
   "outputs": [],
   "source": [
    "m_t = 0\n",
    "v_t = 0\n",
    "epsilon = 1e-7\n",
    "x = 0\n",
    "beta_1 = 0.0\n",
    "beta_2 = 1 / (1 + C * C )\n",
    "# beta_1 = 0.9\n",
    "# beta_2 = .999\n",
    "step_size = 0.1\n",
    "v_hat = 0"
   ]
  },
  {
   "cell_type": "code",
   "execution_count": 31,
   "metadata": {},
   "outputs": [],
   "source": [
    "ams_x_last, ams_x_list = amsgrad_gd(num_iterations=num_iterations, \n",
    "                                    starting_x=0, \n",
    "                                    eta=step_size, \n",
    "                                    C=15, \n",
    "                                    beta_1=beta_1, \n",
    "                                    beta_2=beta_2, \n",
    "                                    v_hat=0, \n",
    "                                    epsilon=1e-7, \n",
    "                                    grad_func=grad_random)"
   ]
  },
  {
   "cell_type": "code",
   "execution_count": 32,
   "metadata": {},
   "outputs": [
    {
     "data": {
      "text/plain": [
       "-0.999555555555753"
      ]
     },
     "execution_count": 32,
     "metadata": {},
     "output_type": "execute_result"
    }
   ],
   "source": [
    "ams_x_last"
   ]
  },
  {
   "cell_type": "markdown",
   "metadata": {},
   "source": [
    "## Plotting"
   ]
  },
  {
   "cell_type": "markdown",
   "metadata": {},
   "source": [
    "Selecting Hyperparamters NOT as recommended"
   ]
  },
  {
   "cell_type": "code",
   "execution_count": 33,
   "metadata": {},
   "outputs": [],
   "source": [
    "# NOT Suggested Hyperparameters\n",
    "\n",
    "m_t = 0\n",
    "v_t = 0\n",
    "epsilon = 1e-7\n",
    "x = 0\n",
    "beta_1 = 0.0\n",
    "beta_2 = 1 / (1 + C * C )\n",
    "# beta_1 = 0.9\n",
    "# beta_2 = .999\n",
    "step_size = 0.1\n",
    "v_hat = 0"
   ]
  },
  {
   "cell_type": "code",
   "execution_count": 34,
   "metadata": {},
   "outputs": [],
   "source": [
    "sgd_x_last_rand_bad, sgd_x_list_rand_bad = stochastic_gd(num_iterations=num_iterations, \n",
    "                                                         starting_x=x, \n",
    "                                                         eta=0.0001, \n",
    "                                                         C=C, \n",
    "                                                         grad_func=grad_random)\n",
    "\n",
    "adam_x_lat_rand_bad, adam_x_list_rand_bad = adam_gd(num_iterations=num_iterations, \n",
    "                                                    starting_x=x, \n",
    "                                                    eta=step_size, \n",
    "                                                    C=C, \n",
    "                                                    beta_1=beta_1, \n",
    "                                                    beta_2=beta_2, \n",
    "                                                    epsilon=epsilon, \n",
    "                                                    grad_func=grad_random)\n",
    "\n",
    "ams_x_last_rand_bad, ams_x_list_rand_bad = amsgrad_gd(num_iterations=num_iterations, \n",
    "                                                      starting_x=x, \n",
    "                                                      eta=step_size, \n",
    "                                                      C=C, \n",
    "                                                      beta_1=beta_1, \n",
    "                                                      beta_2=beta_2, \n",
    "                                                      v_hat=0, \n",
    "                                                      epsilon=epsilon, \n",
    "                                                      grad_func=grad_random)"
   ]
  },
  {
   "cell_type": "code",
   "execution_count": 35,
   "metadata": {},
   "outputs": [
    {
     "data": {
      "image/png": "[encoded data removed]",
      "text/plain": [
       "<Figure size 432x288 with 1 Axes>"
      ]
     },
     "metadata": {
      "needs_background": "light"
     },
     "output_type": "display_data"
    }
   ],
   "source": [
    "plt.plot(sgd_x_list_rand_bad, label='SGD')\n",
    "plt.plot(adam_x_list_rand_bad, label='Adam')\n",
    "plt.plot(ams_x_list_rand_bad, label='AMS')\n",
    "plt.xlabel('Iteration')\n",
    "plt.ylabel('X Values')\n",
    "plt.legend()\n",
    "plt.title('Setting Hyperparameters NOT as Recommended')\n",
    "plt.grid(True)"
   ]
  },
  {
   "cell_type": "markdown",
   "metadata": {},
   "source": [
    "Selecting Hyperparamters AS recommended"
   ]
  },
  {
   "cell_type": "code",
   "execution_count": 36,
   "metadata": {},
   "outputs": [],
   "source": [
    "# Suggested Hyperparameters\n",
    "m_t = 0\n",
    "v_t = 0\n",
    "epsilon = 1e-7\n",
    "x = 0\n",
    "# beta_1 = 0.0\n",
    "# beta_2 = 1 / (1 + C * C )\n",
    "beta_1 = 0.9\n",
    "beta_2 = .999\n",
    "step_size = 0.1\n",
    "v_hat = 0\n",
    "C = 15"
   ]
  },
  {
   "cell_type": "code",
   "execution_count": 37,
   "metadata": {},
   "outputs": [],
   "source": [
    "sgd_x_last_rand_good, sgd_x_list_rand_good = stochastic_gd(num_iterations=num_iterations, \n",
    "                                                           starting_x=x, \n",
    "                                                           eta=0.0001, \n",
    "                                                           C=C, \n",
    "                                                           grad_func=grad_random)\n",
    "\n",
    "adam_x_lat_rand_good, adam_x_list_rand_good = adam_gd(num_iterations=num_iterations, \n",
    "                                                      starting_x=x, \n",
    "                                                      eta=step_size, \n",
    "                                                      C=C, \n",
    "                                                      beta_1=beta_1, \n",
    "                                                      beta_2=beta_2, \n",
    "                                                      epsilon=epsilon, \n",
    "                                                      grad_func=grad_random)\n",
    "\n",
    "ams_x_last_rand_good, ams_x_list_rand_good = amsgrad_gd(num_iterations=num_iterations, \n",
    "                                                        starting_x=x, \n",
    "                                                        eta=step_size, \n",
    "                                                        C=C, \n",
    "                                                        beta_1=beta_1, \n",
    "                                                        beta_2=beta_2, \n",
    "                                                        v_hat=0, \n",
    "                                                        epsilon=epsilon, \n",
    "                                                        grad_func=grad_random)"
   ]
  },
  {
   "cell_type": "code",
   "execution_count": 38,
   "metadata": {},
   "outputs": [
    {
     "data": {
      "image/png": "[encoded data removed]",
      "text/plain": [
       "<Figure size 432x288 with 1 Axes>"
      ]
     },
     "metadata": {
      "needs_background": "light"
     },
     "output_type": "display_data"
    }
   ],
   "source": [
    "plt.plot(sgd_x_list_rand_good, label='SGD')\n",
    "plt.plot(adam_x_list_rand_good, label='Adam')\n",
    "plt.plot(ams_x_list_rand_good, label='AMS')\n",
    "plt.xlabel('Iteration')\n",
    "plt.ylabel('X Values')\n",
    "plt.legend()\n",
    "plt.title('Setting Hyperparameters NOT as Recommended')\n",
    "plt.grid(True)"
   ]
  }
 ],
 "metadata": {
  "kernelspec": {
   "display_name": "Python 3",
   "language": "python",
   "name": "python3"
  },
  "language_info": {
   "codemirror_mode": {
    "name": "ipython",
    "version": 3
   },
   "file_extension": ".py",
   "mimetype": "text/x-python",
   "name": "python",
   "nbconvert_exporter": "python",
   "pygments_lexer": "ipython3",
   "version": "3.7.6"
  }
 },
 "nbformat": 4,
 "nbformat_minor": 2
}
